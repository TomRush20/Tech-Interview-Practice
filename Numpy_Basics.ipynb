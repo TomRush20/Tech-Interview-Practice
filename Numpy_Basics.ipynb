{
 "cells": [
  {
   "cell_type": "markdown",
   "metadata": {},
   "source": [
    "## Numpy"
   ]
  },
  {
   "cell_type": "markdown",
   "metadata": {},
   "source": [
    "- Numpy or numerical python is a built in library in python that allows analysts to manipulate data easily.\n",
    "- Numpy arrays are extremely useful for data analysts to use to aggregate their data.\n",
    "- The dimensions of numpy arrays can also be changed so data analysts can do matrix functions using numpy."
   ]
  },
  {
   "cell_type": "code",
   "execution_count": 1,
   "metadata": {},
   "outputs": [],
   "source": [
    "#Import Statement\n",
    "import numpy as np"
   ]
  },
  {
   "cell_type": "markdown",
   "metadata": {},
   "source": [
    "# Numpy Arrays"
   ]
  },
  {
   "cell_type": "markdown",
   "metadata": {},
   "source": [
    "- A numpy array can be created from a list or tuple.\n",
    "- They act similar to a list"
   ]
  },
  {
   "cell_type": "code",
   "execution_count": 4,
   "metadata": {},
   "outputs": [
    {
     "name": "stdout",
     "output_type": "stream",
     "text": [
      "[1 2 3 4]\n",
      "---------------\n",
      "[[1 2 3]\n",
      " [4 5 6]]\n"
     ]
    }
   ],
   "source": [
    "#1D array\n",
    "array_1d = np.array([1, 2, 3, 4])\n",
    "print(array_1d)\n",
    "\n",
    "print('-'*15)\n",
    "#2D array must be passed in as a list of lists or tuples\n",
    "array_2d = np.array([[1, 2, 3], [4, 5, 6]])\n",
    "print(array_2d)"
   ]
  },
  {
   "cell_type": "markdown",
   "metadata": {},
   "source": [
    "# Arrays Using Built In Functions"
   ]
  },
  {
   "cell_type": "code",
   "execution_count": 6,
   "metadata": {},
   "outputs": [
    {
     "name": "stdout",
     "output_type": "stream",
     "text": [
      "[[0. 0. 0.]\n",
      " [0. 0. 0.]]\n",
      "--------------------\n",
      "[[1. 1.]\n",
      " [1. 1.]\n",
      " [1. 1.]]\n",
      "--------------------\n",
      "[0 2 4 6 8]\n",
      "--------------------\n",
      "[0.   0.25 0.5  0.75 1.  ]\n"
     ]
    }
   ],
   "source": [
    "# Array of zeros rows, columns\n",
    "zeros_array = np.zeros((2,3)) # 000\n",
    "                              # 000\n",
    "print(zeros_array)\n",
    "\n",
    "print('-'*20)\n",
    "\n",
    "#Array of ones rows, columns\n",
    "ones_array = np.ones((3,2)) # 11\n",
    "                            # 11\n",
    "                            # 11\n",
    "print(ones_array)\n",
    "\n",
    "print('-'*20)\n",
    "\n",
    "#Array from a range\n",
    "range_array = np.arange(0, 10, 2) #Start at 0 go to 10 by 2s\n",
    "print(range_array)\n",
    "\n",
    "print('-'*20)\n",
    "\n",
    "#Array of evenly spaced numbers\n",
    "linspace_array = np.linspace(0, 1, 5) #Space each entry from 0 to 1 evenly and use 5 entries\n",
    "print(linspace_array)"
   ]
  },
  {
   "cell_type": "markdown",
   "metadata": {},
   "source": [
    "## Array Properties"
   ]
  },
  {
   "cell_type": "code",
   "execution_count": 8,
   "metadata": {},
   "outputs": [
    {
     "name": "stdout",
     "output_type": "stream",
     "text": [
      "Shape (2, 3)\n",
      "Size 6\n",
      "Data type int32\n"
     ]
    }
   ],
   "source": [
    "print(f'Shape {array_2d.shape}') #Dimensions of the array\n",
    "print(f'Size {array_2d.size}') #Total amount of elements in the array\n",
    "print(f'Data type {array_2d.dtype}') #The datatype of the elements in the array\n"
   ]
  },
  {
   "cell_type": "markdown",
   "metadata": {},
   "source": [
    "## Array Operations"
   ]
  },
  {
   "cell_type": "markdown",
   "metadata": {},
   "source": [
    "Basic Arithmetic: each entry in the first array is lined up with the corresponding entry in the second array"
   ]
  },
  {
   "cell_type": "code",
   "execution_count": 9,
   "metadata": {},
   "outputs": [
    {
     "name": "stdout",
     "output_type": "stream",
     "text": [
      "[5 7 9]\n",
      "[-3 -3 -3]\n",
      "[ 4 10 18]\n",
      "[0.25 0.4  0.5 ]\n"
     ]
    }
   ],
   "source": [
    "a = np.array([1, 2, 3])\n",
    "b = np.array([4, 5, 6])\n",
    "\n",
    "print(a + b) #Addition\n",
    "print(a - b) #Subtraction\n",
    "print(a * b) #Multiplication\n",
    "print(a / b) #Division"
   ]
  },
  {
   "cell_type": "markdown",
   "metadata": {},
   "source": [
    "Statistical Functions"
   ]
  },
  {
   "cell_type": "code",
   "execution_count": 10,
   "metadata": {},
   "outputs": [
    {
     "name": "stdout",
     "output_type": "stream",
     "text": [
      "Mean 3.0\n",
      "Median 3.0\n",
      "Standard Deviation 1.4142135623730951\n",
      "Variance 2.0\n"
     ]
    }
   ],
   "source": [
    "data = np.array([1, 2, 3, 4, 5])\n",
    "\n",
    "print(f'Mean {np.mean(data)}')\n",
    "print(f'Median {np.median(data)}')\n",
    "print(f'Standard Deviation {np.std(data)}')\n",
    "print(f'Variance {np.var(data)}')"
   ]
  },
  {
   "cell_type": "markdown",
   "metadata": {},
   "source": [
    "Reshaping Arrays"
   ]
  },
  {
   "cell_type": "code",
   "execution_count": 19,
   "metadata": {},
   "outputs": [
    {
     "name": "stdout",
     "output_type": "stream",
     "text": [
      "[ 0  1  2  3  4  5  6  7  8  9 10 11]\n",
      "--------------------------------------------------\n",
      "[[ 0  1  2  3]\n",
      " [ 4  5  6  7]\n",
      " [ 8  9 10 11]]\n"
     ]
    }
   ],
   "source": [
    "original = np.arange(12)\n",
    "print(original)\n",
    "\n",
    "print('-' * 50)\n",
    "\n",
    "reshaped_array = np.arange(12).reshape(3,4) #Reshape a 1 row 12 column array to a 3 row 4 column array\n",
    "print(reshaped_array)"
   ]
  },
  {
   "cell_type": "markdown",
   "metadata": {},
   "source": [
    "Indexing and Slicing"
   ]
  },
  {
   "cell_type": "code",
   "execution_count": 12,
   "metadata": {},
   "outputs": [
    {
     "name": "stdout",
     "output_type": "stream",
     "text": [
      "[[1 2 3]\n",
      " [4 5 6]]\n",
      "--------------------\n",
      "2\n",
      "[1 2 3]\n",
      "[2 5]\n"
     ]
    }
   ],
   "source": [
    "#Indexing\n",
    "print(array_2d)\n",
    "\n",
    "print('-' * 20)\n",
    "\n",
    "print(array_2d[0, 1]) #Access element at row 0 column 1\n",
    "\n",
    "#Slicing\n",
    "print(array_2d[0, :]) #First row\n",
    "print(array_2d[:, 1]) #Second column"
   ]
  },
  {
   "cell_type": "code",
   "execution_count": 14,
   "metadata": {},
   "outputs": [
    {
     "name": "stdout",
     "output_type": "stream",
     "text": [
      "[1 2 3 4]\n",
      "--------------------\n",
      "3\n",
      "0\n"
     ]
    }
   ],
   "source": [
    "#argmax- returns the index of the largest element\n",
    "print(array_1d)\n",
    "\n",
    "print('-' * 20)\n",
    "\n",
    "print(np.argmax(array_1d))\n",
    "\n",
    "#argmin- returns the index of the smallest element\n",
    "print(np.argmin(array_1d))"
   ]
  },
  {
   "cell_type": "markdown",
   "metadata": {},
   "source": [
    "Combining Arrays"
   ]
  },
  {
   "cell_type": "code",
   "execution_count": 21,
   "metadata": {},
   "outputs": [
    {
     "name": "stdout",
     "output_type": "stream",
     "text": [
      "[[1 2 3]\n",
      " [4 5 6]]\n",
      "--------------------\n",
      "[1 2 3 4 5 6]\n",
      "--------------------\n",
      "[1 2 3 4 5 6]\n"
     ]
    }
   ],
   "source": [
    "array_1 = np.array([1, 2, 3])\n",
    "array_2 = np.array([4, 5, 6])\n",
    "\n",
    "#Vertically Stack the arrays\n",
    "vstacked_array = np.vstack((array_1, array_2))\n",
    "print(vstacked_array)\n",
    "\n",
    "print('-' * 20)\n",
    "\n",
    "#Horizontally Stack the arrays\n",
    "hstacked_array = np.hstack((array_1, array_2))\n",
    "print(hstacked_array)\n",
    "\n",
    "print('-' * 20)\n",
    "\n",
    "#Concatenate the arrays\n",
    "concat_array = np.concatenate((array_1, array_2))\n",
    "print(concat_array)"
   ]
  },
  {
   "cell_type": "markdown",
   "metadata": {},
   "source": [
    "Many of these functions can also be used on columns and rows in a dataframe. This is why numpy is so useful in data analytics projects. There are many more numpy functions to explore on the numpy documentation."
   ]
  },
  {
   "cell_type": "markdown",
   "metadata": {},
   "source": [
    "Source: ChatGPT"
   ]
  },
  {
   "cell_type": "code",
   "execution_count": null,
   "metadata": {},
   "outputs": [],
   "source": []
  }
 ],
 "metadata": {
  "kernelspec": {
   "display_name": "base",
   "language": "python",
   "name": "python3"
  },
  "language_info": {
   "codemirror_mode": {
    "name": "ipython",
    "version": 3
   },
   "file_extension": ".py",
   "mimetype": "text/x-python",
   "name": "python",
   "nbconvert_exporter": "python",
   "pygments_lexer": "ipython3",
   "version": "3.12.4"
  }
 },
 "nbformat": 4,
 "nbformat_minor": 2
}
