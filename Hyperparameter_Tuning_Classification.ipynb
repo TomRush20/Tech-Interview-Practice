{
 "cells": [
  {
   "cell_type": "markdown",
   "metadata": {},
   "source": [
    "## Hyper Parameter Tuning"
   ]
  },
  {
   "cell_type": "markdown",
   "metadata": {},
   "source": [
    "- Hyper Parameter Tuning is the process of finding the best parameters for your machine learning models.\n",
    "- It is surprisingly easy to do and utilizes a for loop\n",
    "- If you have a classification problem in a technical assessment for a job (people in the cohort have already had to do this!), and you use hyper parameter tuning, you will look like a machine learning genius to recruiters!"
   ]
  },
  {
   "cell_type": "code",
   "execution_count": 31,
   "metadata": {},
   "outputs": [],
   "source": [
    "# Import Statements\n",
    "import pandas as pd\n",
    "import numpy as np\n",
    "import matplotlib.pyplot as plt\n",
    "import seaborn as sns\n",
    "from sklearn.model_selection import cross_val_predict, cross_val_score\n",
    "from sklearn.metrics import confusion_matrix, accuracy_score\n",
    "from sklearn.ensemble import RandomForestClassifier"
   ]
  },
  {
   "cell_type": "markdown",
   "metadata": {},
   "source": [
    "For this problem we will be using the iris dataset."
   ]
  },
  {
   "cell_type": "code",
   "execution_count": 32,
   "metadata": {},
   "outputs": [
    {
     "data": {
      "text/html": [
       "<div>\n",
       "<style scoped>\n",
       "    .dataframe tbody tr th:only-of-type {\n",
       "        vertical-align: middle;\n",
       "    }\n",
       "\n",
       "    .dataframe tbody tr th {\n",
       "        vertical-align: top;\n",
       "    }\n",
       "\n",
       "    .dataframe thead th {\n",
       "        text-align: right;\n",
       "    }\n",
       "</style>\n",
       "<table border=\"1\" class=\"dataframe\">\n",
       "  <thead>\n",
       "    <tr style=\"text-align: right;\">\n",
       "      <th></th>\n",
       "      <th>sepal_length</th>\n",
       "      <th>sepal_width</th>\n",
       "      <th>petal_length</th>\n",
       "      <th>petal_width</th>\n",
       "      <th>species</th>\n",
       "    </tr>\n",
       "  </thead>\n",
       "  <tbody>\n",
       "    <tr>\n",
       "      <th>0</th>\n",
       "      <td>5.1</td>\n",
       "      <td>3.5</td>\n",
       "      <td>1.4</td>\n",
       "      <td>0.2</td>\n",
       "      <td>setosa</td>\n",
       "    </tr>\n",
       "    <tr>\n",
       "      <th>1</th>\n",
       "      <td>4.9</td>\n",
       "      <td>3.0</td>\n",
       "      <td>1.4</td>\n",
       "      <td>0.2</td>\n",
       "      <td>setosa</td>\n",
       "    </tr>\n",
       "    <tr>\n",
       "      <th>2</th>\n",
       "      <td>4.7</td>\n",
       "      <td>3.2</td>\n",
       "      <td>1.3</td>\n",
       "      <td>0.2</td>\n",
       "      <td>setosa</td>\n",
       "    </tr>\n",
       "    <tr>\n",
       "      <th>3</th>\n",
       "      <td>4.6</td>\n",
       "      <td>3.1</td>\n",
       "      <td>1.5</td>\n",
       "      <td>0.2</td>\n",
       "      <td>setosa</td>\n",
       "    </tr>\n",
       "    <tr>\n",
       "      <th>4</th>\n",
       "      <td>5.0</td>\n",
       "      <td>3.6</td>\n",
       "      <td>1.4</td>\n",
       "      <td>0.2</td>\n",
       "      <td>setosa</td>\n",
       "    </tr>\n",
       "  </tbody>\n",
       "</table>\n",
       "</div>"
      ],
      "text/plain": [
       "   sepal_length  sepal_width  petal_length  petal_width species\n",
       "0           5.1          3.5           1.4          0.2  setosa\n",
       "1           4.9          3.0           1.4          0.2  setosa\n",
       "2           4.7          3.2           1.3          0.2  setosa\n",
       "3           4.6          3.1           1.5          0.2  setosa\n",
       "4           5.0          3.6           1.4          0.2  setosa"
      ]
     },
     "execution_count": 32,
     "metadata": {},
     "output_type": "execute_result"
    }
   ],
   "source": [
    "#Dataset\n",
    "iris_df = pd.read_csv('Data/iris.csv')\n",
    "iris_df.head()"
   ]
  },
  {
   "cell_type": "markdown",
   "metadata": {},
   "source": [
    "Since this dataset is already cleaned and prepared for analysis, we can move onto the hyperparameter tuning."
   ]
  },
  {
   "cell_type": "markdown",
   "metadata": {},
   "source": [
    "Before we start, the classifier that I will be using is RandomForestClassifier. This classifier creates a certain amount of decision trees and runs them all on the records in the dataset. It then votes and takes the majority classification from all the trees. "
   ]
  },
  {
   "cell_type": "markdown",
   "metadata": {},
   "source": [
    "The problem we are trying to solve is what is the best amount of trees to use for this dataset?"
   ]
  },
  {
   "cell_type": "code",
   "execution_count": 33,
   "metadata": {},
   "outputs": [
    {
     "name": "stdout",
     "output_type": "stream",
     "text": [
      "For the iris dataset we should use 3 tree(s)\n"
     ]
    }
   ],
   "source": [
    "X = iris_df.drop(columns=['species'])\n",
    "y = iris_df['species']\n",
    "\n",
    "#Hyperparameter Tuning\n",
    "scores = [] #Create an empty list to store the cv_score for each classifier\n",
    "\n",
    "#A general convention is that the maximum amount of trees should not\n",
    "#exceed the square root of the amount of rows in the dataset\n",
    "#since this dataset has 150 rows, the maximum amount of trees \n",
    "#we are going to go to is 12\n",
    "\n",
    "for i in range(12): \n",
    "    rf = RandomForestClassifier(n_estimators=i+1, criterion='entropy', random_state=42)\n",
    "\n",
    "    #This gets the accuracy scores for the classifier\n",
    "    cv_score = cross_val_score(rf, X, y, scoring='accuracy', cv=5) \n",
    "\n",
    "    #Take the mean score from the accuracy scores and append to scores\n",
    "    mean_score = np.mean(cv_score)\n",
    "    scores.append(mean_score)\n",
    "\n",
    "best_trees = np.argmax(scores) + 1 #Gets the amount of trees that corresponds to the highest accuracy\n",
    "print(f'For the iris dataset we should use {best_trees} tree(s)')"
   ]
  },
  {
   "cell_type": "markdown",
   "metadata": {},
   "source": [
    "Now that we have our best parameter, we can create a model that uses it."
   ]
  },
  {
   "cell_type": "code",
   "execution_count": 34,
   "metadata": {},
   "outputs": [
    {
     "name": "stdout",
     "output_type": "stream",
     "text": [
      "The accuracy of the optimized model is 0.96\n"
     ]
    }
   ],
   "source": [
    "optimized_rf = RandomForestClassifier(n_estimators=best_trees, criterion='entropy', random_state=42)\n",
    "\n",
    "#Make predictions\n",
    "pred = cross_val_predict(optimized_rf, X, y, cv=5)\n",
    "\n",
    "#Get accuracy score by comparing the predictions to y\n",
    "print(f'The accuracy of the optimized model is {accuracy_score(y, pred)}')"
   ]
  },
  {
   "cell_type": "markdown",
   "metadata": {},
   "source": [
    "Confusion Matrix Using Seaborn"
   ]
  },
  {
   "cell_type": "code",
   "execution_count": 35,
   "metadata": {},
   "outputs": [
    {
     "data": {
      "image/png": "[encoded data removed]",
      "text/plain": [
       "<Figure size 640x480 with 2 Axes>"
      ]
     },
     "metadata": {},
     "output_type": "display_data"
    }
   ],
   "source": [
    "confusion_matrix = confusion_matrix(y, pred)\n",
    "\n",
    "labels = ['setosa', 'versicolor', 'virginica']\n",
    "\n",
    "heatmap = sns.heatmap(confusion_matrix, annot=True, cmap='coolwarm', xticklabels=labels, \n",
    "                      yticklabels=labels)\n",
    "plt.title('Confusion Matrix for our Optimized Classifier')\n",
    "plt.show()"
   ]
  },
  {
   "cell_type": "markdown",
   "metadata": {},
   "source": [
    "This method can be used in every model that has an accuracy or error metric and has customizable parameters!"
   ]
  },
  {
   "cell_type": "code",
   "execution_count": null,
   "metadata": {},
   "outputs": [],
   "source": []
  }
 ],
 "metadata": {
  "kernelspec": {
   "display_name": "base",
   "language": "python",
   "name": "python3"
  },
  "language_info": {
   "codemirror_mode": {
    "name": "ipython",
    "version": 3
   },
   "file_extension": ".py",
   "mimetype": "text/x-python",
   "name": "python",
   "nbconvert_exporter": "python",
   "pygments_lexer": "ipython3",
   "version": "3.12.4"
  }
 },
 "nbformat": 4,
 "nbformat_minor": 2
}
